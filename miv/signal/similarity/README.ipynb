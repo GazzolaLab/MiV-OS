{
 "cells": [
  {
   "cell_type": "code",
   "execution_count": null,
   "metadata": {},
   "outputs": [],
   "source": [
    "# Signal Similarity Analysis Tools"
   ]
  },
  {
   "cell_type": "code",
   "execution_count": null,
   "metadata": {},
   "outputs": [],
   "source": [
    "## Types\n",
    "\n",
    "- Pearson Correlation\n",
    "- Time-lagged Cross Correlation\n",
    "- DTW: Dynamic Time Warping\n",
    "- Phase Synchrony"
   ]
  }
 ],
 "metadata": {
  "language_info": {
   "name": "python"
  }
 },
 "nbformat": 4,
 "nbformat_minor": 2
}
