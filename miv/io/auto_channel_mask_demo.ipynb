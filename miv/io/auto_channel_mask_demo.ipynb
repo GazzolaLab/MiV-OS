{
 "cells": [
  {
   "cell_type": "markdown",
   "metadata": {},
   "source": [
    "# Automatic Channel Masking\n",
    "\n",
    "The goal of this method is to apply a mask on insignificant channels with no signal or negligible spikes."
   ]
  },
  {
   "cell_type": "markdown",
   "metadata": {},
   "source": [
    "### Baseline version\n",
    "\n",
    "The baseline version works by filtering out channels with mean spike rates that are below the *no_spike_threshold* parameter. The spike rate is computed using *firing_rates* in the *statistics* module. \n",
    "\n",
    "This method is basic and only effective in masking out channels with almost no spikes. Below are some artificial spiketrains that demonstrate this method:"
   ]
  },
  {
   "cell_type": "code",
   "execution_count": 81,
   "metadata": {},
   "outputs": [
    {
     "data": {
      "text/plain": [
       "(<AxesSubplot:xlabel='Time (s)'>, <Axes:ylabel='count'>, <Axes:>)"
      ]
     },
     "execution_count": 81,
     "metadata": {},
     "output_type": "execute_result"
    },
    {
     "data": {
      "image/png": "[encoded data removed]",
      "text/plain": [
       "<Figure size 432x288 with 3 Axes>"
      ]
     },
     "metadata": {},
     "output_type": "display_data"
    }
   ],
   "source": [
    "from neo.core import SpikeTrain\n",
    "from quantities import s\n",
    "import numpy as np\n",
    "from viziphant.rasterplot import rasterplot_rates\n",
    "import statistics\n",
    "\n",
    "spiketrains = []\n",
    "for i in range(1,11):\n",
    "    times = np.arange(start=0, stop=1, step=1/(i**2))\n",
    "    spiketrains.append(SpikeTrain(times*s, t_start=0.0, t_stop=1.0))\n",
    "rasterplot_rates(spiketrains)"
   ]
  },
  {
   "cell_type": "markdown",
   "metadata": {},
   "source": [
    "Here, 10 channels with quadratically increasing spike rates are created. The time duration is 1 second. Channel 1 has spike rate of 1 spike/sec, channel 2 is 4 spikes/sec."
   ]
  },
  {
   "cell_type": "markdown",
   "metadata": {},
   "source": [
    "Below is the baseline auto masking method. Because it is much simpler to create synthetic spiketrains than creating Data objects, this is a simplified version of the baseline method but functions identically. We use the default value 1 for no_spike_threshold. This value can be altered to test this methdod:"
   ]
  },
  {
   "cell_type": "code",
   "execution_count": 82,
   "metadata": {},
   "outputs": [
    {
     "name": "stdout",
     "output_type": "stream",
     "text": [
      "Channels masked:  [0]\n"
     ]
    },
    {
     "data": {
      "image/png": "[encoded data removed]",
      "text/plain": [
       "<Figure size 432x288 with 3 Axes>"
      ]
     },
     "metadata": {},
     "output_type": "display_data"
    }
   ],
   "source": [
    "from miv.statistics import firing_rates\n",
    "no_spike_threshold =  1    # Modify this value to test this method\n",
    "mask_list = []\n",
    "masked_spiketrains = []\n",
    "\n",
    "spike_stats = firing_rates(spiketrains)\n",
    "for channel in range(len(spike_stats['rates'])):\n",
    "    if spike_stats['rates'][channel] <= no_spike_threshold:\n",
    "        mask_list.append(channel)\n",
    "    else:\n",
    "        masked_spiketrains.append(spiketrains[channel])\n",
    "\n",
    "print(\"Channels masked: \", np.array(mask_list))\n",
    "try:\n",
    "    rasterplot_rates(masked_spiketrains)\n",
    "except IndexError:\n",
    "    print(\"All channels masked\")"
   ]
  },
  {
   "cell_type": "markdown",
   "metadata": {},
   "source": [
    "This method is extremely primitive. \n",
    "-   The threshold parameter requires manual adjustment for the best result. \n",
    "-   Noise is not taken into consideration. This method would falsely mask out channels that contain only spikes and no noise since the number of noise spikes is usually higher. Vice versa, channels with lots of noise spikes and few neuron spikes will be kept."
   ]
  },
  {
   "cell_type": "markdown",
   "metadata": {},
   "source": [
    "In reality, spikes often occur at the same time among the channels. The difference across the channels is not just the number of spikes. Below is an attempt to recreate some artificial spikes:\n",
    "\n",
    "-   Half of the channels contains only noise, the other half contains spikes and noise. \n",
    "-   When a layer of noise is applied to each channel, the layer is generated with a random array that marks the time for each individual noise spike. The number of noise spikes is also determined randomly.\n",
    "-   The real spikes often show up not just as one single spike but a group of spikes within a short duration. It is not sure how long is the duration, so we simply repeat the spike at the same time."
   ]
  },
  {
   "cell_type": "code",
   "execution_count": 147,
   "metadata": {},
   "outputs": [],
   "source": [
    "# This function adds noise to a channel and returns the noisy channel\n",
    "def add_noise(channel, noise_amount : float = 100, exp_duration : float = 1):\n",
    "    noise_array = exp_duration*np.random.rand(int(noise_amount))    # an array with timestamps of noise spikes\n",
    "    return np.concatenate((channel, noise_array))"
   ]
  },
  {
   "cell_type": "markdown",
   "metadata": {},
   "source": [
    "The parameters can be tweaked to make these look more accurate."
   ]
  },
  {
   "cell_type": "code",
   "execution_count": 155,
   "metadata": {},
   "outputs": [
    {
     "data": {
      "text/plain": [
       "(<AxesSubplot:xlabel='Time (s)'>, <Axes:ylabel='count'>, <Axes:>)"
      ]
     },
     "execution_count": 155,
     "metadata": {},
     "output_type": "execute_result"
    },
    {
     "data": {
      "image/png": "[encoded data removed]",
      "text/plain": [
       "<Figure size 432x288 with 3 Axes>"
      ]
     },
     "metadata": {},
     "output_type": "display_data"
    }
   ],
   "source": [
    "# Parameters:\n",
    "experiment_duration = 1 # Length of experiment time in seconds\n",
    "spike_duration = 0.1    # Length of spikes in second\n",
    "spikes_per_second = 10  # Number of spikes per second\n",
    "num_channels = 10       # Number of channels\n",
    "noise_multiplier = 100  # Multiplier for the amount of noise in each channel\n",
    "spike_strength = 3      # Multiplier for the number of times the spike is repeated\n",
    "\n",
    "noise_amounts = np.random.rand(num_channels)\n",
    "spiketrains = []\n",
    "for chan in range(num_channels):\n",
    "    if (chan%2 == 0):   # Even channels (0-based) contain spikes\n",
    "        spikes = np.repeat(np.arange(start=0, stop=experiment_duration, step=1/spikes_per_second), spike_strength)\n",
    "    else:\n",
    "        spikes = []\n",
    "    spiketrains.append(SpikeTrain(add_noise(spikes, noise_multiplier*noise_amounts[chan], experiment_duration)*s, experiment_duration))\n",
    "\n",
    "# This is the comparison noise spikes that we will feed into the \"improved\" function later\n",
    "noise_spikes = add_noise([], noise_multiplier*0.5)\n",
    "# noise_spikes = add_noise([], noise_multiplier*np.random.rand(1))\n",
    "\n",
    "rasterplot_rates(spiketrains, markerargs={'marker':'.', 'markersize':1})"
   ]
  },
  {
   "cell_type": "markdown",
   "metadata": {},
   "source": [
    "### \"Improved\" version\n",
    "\n",
    "The baseline method has no way of identifying which channel to mask out. Here comes the \"improved\" method of automatic channel masking.\n",
    "\n",
    "In this improved method, we pass a spontaneous recording Data object parameter as the noise reference. Additionally, the parameters include a Data object from the spontaneous recording, a filter object that will be applied on all recordings, and a spike detector object that is used to detect spikes.\n",
    "\n",
    "A time-binned array of the number of spikes is created for each comparison between the spontaneous spikes and the experiment spikes. The dot products are take between the same channels for each comparison. This dot product value is then used to evaluate whether the channel should be masked."
   ]
  },
  {
   "cell_type": "code",
   "execution_count": 156,
   "metadata": {},
   "outputs": [],
   "source": [
    "bins_per_second = 80      # change this parameter to change bin size\n",
    "\n",
    "def bin_spikes(spikes, bins_per_second, experiment_duration):\n",
    "    bins_array = np.arange(start=0, stop=experiment_duration, step=1/bins_per_second)\n",
    "    spikes_bin_indices = np.digitize(spikes, bins_array)\n",
    "    spikes_in_each_bin = np.zeros(bins_per_second*experiment_duration+1)\n",
    "    for bin_index in spikes_bin_indices:\n",
    "        spikes_in_each_bin[bin_index] += 1\n",
    "    return spikes_in_each_bin\n",
    "\n",
    "# 1: bin the spontaneous recording spikes\n",
    "spontaneous_binned = bin_spikes(noise_spikes, bins_per_second, experiment_duration)\n",
    "\n",
    "# 2: bin the experiment recording spikes and calculate dot product\n",
    "dot_products = []\n",
    "for channel in spiketrains:\n",
    "    channel_binned = bin_spikes(channel, bins_per_second, experiment_duration)\n",
    "    dot_products.append(np.dot(channel_binned, spontaneous_binned))\n",
    "\n",
    "# 3: compare dot products and mask channels\n",
    "mask_list = []\n",
    "masked_spiketrains = []\n",
    "threshold = np.mean(dot_products) + statistics.stdev(dot_products)\n",
    "for channel_index in range(len(dot_products)):\n",
    "    if (dot_products[channel_index] > threshold):\n",
    "        mask_list.append(channel_index)\n",
    "    else:\n",
    "        masked_spiketrains.append(spiketrains[channel_index])"
   ]
  },
  {
   "cell_type": "code",
   "execution_count": 157,
   "metadata": {},
   "outputs": [
    {
     "name": "stdout",
     "output_type": "stream",
     "text": [
      "Dot products:  [8.0, 32.0, 58.0, 22.0, 51.0, 40.0, 27.0, 15.0, 68.0, 12.0]\n",
      "Channels masked:  [2 8]\n"
     ]
    },
    {
     "data": {
      "image/png": "[encoded data removed]",
      "text/plain": [
       "<Figure size 432x288 with 3 Axes>"
      ]
     },
     "metadata": {},
     "output_type": "display_data"
    }
   ],
   "source": [
    "print(\"Dot products: \", dot_products)\n",
    "print(\"Channels masked: \", np.array(mask_list))\n",
    "try:\n",
    "    rasterplot_rates(masked_spiketrains)\n",
    "except IndexError:\n",
    "    print(\"All channels masked\")"
   ]
  },
  {
   "cell_type": "markdown",
   "metadata": {},
   "source": [
    "After experimenting with tweaking parameters, we see that this method is extremely inconsistent. The channels that are being masked are often the channels that actually contain the spikes. Taking the dot products and comparing them doesn't seem like a viable solution as it only eliminates channels that look similar to that particular noise channel given for comparison.\n",
    "\n",
    "Looking at spiketrains only provides information for the occurence of spikes. It may be better to instead look at each spike and identify the differences between a true neural spike and some other spike. "
   ]
  }
 ],
 "metadata": {
  "kernelspec": {
   "display_name": "Python 3.10.4 64-bit",
   "language": "python",
   "name": "python3"
  },
  "language_info": {
   "codemirror_mode": {
    "name": "ipython",
    "version": 3
   },
   "file_extension": ".py",
   "mimetype": "text/x-python",
   "name": "python",
   "nbconvert_exporter": "python",
   "pygments_lexer": "ipython3",
   "version": "3.10.4"
  },
  "orig_nbformat": 4,
  "vscode": {
   "interpreter": {
    "hash": "a4504a1a93dd705a825ea525f798be4c3dde7c4494a61cb0c2346c24ea4c3583"
   }
  }
 },
 "nbformat": 4,
 "nbformat_minor": 2
}
