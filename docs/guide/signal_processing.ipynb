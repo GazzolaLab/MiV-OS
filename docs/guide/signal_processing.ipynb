{
 "cells": [
  {
   "cell_type": "markdown",
   "id": "d81cdede",
   "metadata": {},
   "source": [
    "# Signal Processing Guideline\n"
   ]
  },
  {
   "cell_type": "code",
   "execution_count": null,
   "id": "566761ed",
   "metadata": {
    "tags": [
     "hide-cell"
    ]
   },
   "outputs": [],
   "source": [
    "import os\n",
    "import numpy as np\n",
    "import quantities as pq\n",
    "import matplotlib.pyplot as plt\n",
    "\n"
   ]
  },
  {
   "cell_type": "markdown",
   "id": "cb0de5c5",
   "metadata": {},
   "source": [
    "## 1. Data Load"
   ]
  },
  {
   "cell_type": "code",
   "execution_count": null,
   "id": "799f0547",
   "metadata": {
    "tags": [
     "hide-cell"
    ]
   },
   "outputs": [],
   "source": [
    "from miv.io import load_data"
   ]
  },
  {
   "cell_type": "code",
   "execution_count": null,
   "id": "2e106e97",
   "metadata": {},
   "outputs": [],
   "source": [
    "# Load dataset from OpenEphys recording\n",
    "folder_path: str = \"~/Open Ephys/2022-03-10-16-19-09\"  # Data Path\n",
    "dataset = load_data(folder_path, device=\"OpenEphys\")"
   ]
  },
  {
   "cell_type": "markdown",
   "id": "f667f6e4",
   "metadata": {},
   "source": [
    "### 1.1. Meta Data Structure"
   ]
  },
  {
   "cell_type": "code",
   "execution_count": null,
   "id": "1c21bc85",
   "metadata": {},
   "outputs": [],
   "source": [
    "# Get signal and rate(hz)\n",
    "record_node: int = dataset.get_nodes[0]\n",
    "recording = dataset[record_node][\"experiment1\"][\"recording1\"]\n",
    "signal, _, rate = recording.continuous[\"100\"]\n",
    "# time = recording.continuous[\"100\"].timestamp / rate\n",
    "num_channels = signal.shape[1]"
   ]
  },
  {
   "cell_type": "markdown",
   "id": "a72339e8",
   "metadata": {},
   "source": [
    "### 1.2. Array Data Structure"
   ]
  },
  {
   "cell_type": "code",
   "execution_count": null,
   "id": "66972c64",
   "metadata": {},
   "outputs": [],
   "source": []
  },
  {
   "cell_type": "markdown",
   "id": "16ce7358",
   "metadata": {},
   "source": [
    "### 1.3 Raw Data"
   ]
  },
  {
   "cell_type": "code",
   "execution_count": null,
   "id": "a575ab1d",
   "metadata": {},
   "outputs": [],
   "source": []
  },
  {
   "cell_type": "markdown",
   "id": "cd5d1420",
   "metadata": {},
   "source": [
    "## 2. Filtering Raw Signal"
   ]
  },
  {
   "cell_type": "markdown",
   "id": "c6eda669",
   "metadata": {},
   "source": [
    "We provide a set of basic signal filter tools. It is highly recommended to filter the signal before doing the spike-detection.\n",
    "Here, we provide examples of how to create and apply the filter to the [`dataset`](../api/io.rst)."
   ]
  },
  {
   "cell_type": "markdown",
   "id": "c4402012",
   "metadata": {},
   "source": [
    "If you have further suggestion on other filters to include, please leave an issue on our [GitHub issue page](https://github.com/GazzolaLab/MiV-OS/issues) with `enhancement` tag."
   ]
  },
  {
   "cell_type": "code",
   "execution_count": null,
   "id": "783e3dd4",
   "metadata": {
    "tags": [
     "hide-cell"
    ]
   },
   "outputs": [],
   "source": [
    "from miv.signal.filter import FilterCollection, ButterBandpass"
   ]
  },
  {
   "cell_type": "markdown",
   "id": "1432314b",
   "metadata": {},
   "source": [
    "### 2.1 Filter Collection\n",
    "\n",
    "[Here](../api/signal.html#filter) is the list of provided filters.\n",
    "All filters are `Callable`, taking `signal` and `sampling_rate` as parameters.\n",
    "To define a multiple filters together, we provide [`FilterCollection`](../api/_toctree/FilterAPI/miv.signal.filter.FilterCollection) that execute multiple filters in a series.\n"
   ]
  },
  {
   "cell_type": "code",
   "execution_count": null,
   "id": "e49e9f31",
   "metadata": {},
   "outputs": [],
   "source": [
    "# Butter bandpass filter\n",
    "pre_filter = ButterBandpass(lowcut=300, highcut=3000, order=5)\n",
    "\n",
    "# How to construct sequence of filters\n",
    "pre_filter = (\n",
    "    FilterCollection(tag=\"Filter Example\")\n",
    "        .append(ButterBandpass(lowcut=300, highcut=3000, order=5))\n",
    "        #.append(Limiter(400*pq.mV))\n",
    "        #.append(Filter1(**filter1_kwargs))\n",
    "        #.append(Filter2(**filter2_kwargs))\n",
    ")"
   ]
  },
  {
   "cell_type": "markdown",
   "id": "7430675d",
   "metadata": {},
   "source": [
    "### 2.2 Apply Filter\n",
    "\n",
    "There are two way to apply the filter on the signal.\n",
    "- If the signal is stored in `numpy array` format, you can directly call the filter `prefilter(signal, sampling_rate)`.\n",
    "- If you want to apply the filter to all signals in the `dataset`, `dataset` provide `.apply_filter` method that takes any `filter` (any filter that abide [`filter protocol`](../api/_toctree/FilterAPI/miv.signal.filter.FilterProtocol)).\n",
    "  - You can select [subset of `dataset`](../api/dataset.html#data-subset) and [mask-out channels](../api/dataset.html#mask-channel) before applying the filter.\n",
    "  \n",
    "You can check the list of all provided filters [here](../api/signal.html#filter)."
   ]
  },
  {
   "cell_type": "code",
   "execution_count": null,
   "id": "c3dc284e",
   "metadata": {},
   "outputs": [],
   "source": [
    "# Apply filter to entire dataset\n",
    "dataset.apply_filter(pre_filter)\n",
    "filtered_signal = dataset[record_node]['experiment1']['recording1'].filtered_signal\n",
    "\n",
    "# Apply filter to array\n",
    "rate = 30_000\n",
    "filtered_signal = pre_filter(data_array, sampling_rate=rate)\n",
    "\n",
    "# Retrieve data from dataset and apply filter\n",
    "data = dataset[record_node]['experiment1']['recording1']\n",
    "filtered_signal = pre_filter(data, sampling_rate=rate)"
   ]
  },
  {
   "cell_type": "markdown",
   "id": "c0aad0c0",
   "metadata": {},
   "source": [
    "## 3. Spike Detection\n",
    "\n",
    "You can check the available method [here](../api/signal.html#spike-detection).\n",
    "\n",
    "Most simple example of spike-detection method is using `ThresholdCutoff`."
   ]
  },
  {
   "cell_type": "code",
   "execution_count": null,
   "id": "16848ba7",
   "metadata": {
    "tags": [
     "hide-cell"
    ]
   },
   "outputs": [],
   "source": [
    "from miv.signal.spike import ThresholdCutoff"
   ]
  },
  {
   "cell_type": "code",
   "execution_count": null,
   "id": "bb1e5ee9",
   "metadata": {},
   "outputs": [],
   "source": [
    "# Define spike-detection method\n",
    "spike_detection = ThresholdCutoff()\n",
    "\n",
    "# The detection can be used directly as the following.\n",
    "#   signal        : np.array or neo.core.AnalogSignal, shape(N_channels, N)\n",
    "#   timestamps    : np.array, shape(N) \n",
    "#   sampling_rate : float\n",
    "timestamps = spike_detection(signal, timestamps, sampling_rate=30_000, cutoff=3.5)\n",
    "\n",
    "# The detection can be applied on the dataset\n",
    "dataset.apply_spike_detection(spike_detection)"
   ]
  },
  {
   "cell_type": "markdown",
   "id": "11db868c",
   "metadata": {},
   "source": [
    "## 4. Spike Visualization"
   ]
  },
  {
   "cell_type": "code",
   "execution_count": null,
   "id": "9ed78920",
   "metadata": {
    "tags": [
     "hide-cell"
    ]
   },
   "outputs": [],
   "source": [
    "import neo\n",
    "from viziphant.rasterplot import rasterplot_rates"
   ]
  },
  {
   "cell_type": "code",
   "execution_count": null,
   "id": "9a4dffb6",
   "metadata": {},
   "outputs": [],
   "source": [
    "# Plot\n",
    "rasterplot_rates(spiketrain_list)"
   ]
  }
 ],
 "metadata": {
  "celltoolbar": "Tags",
  "kernelspec": {
   "display_name": "Python 3 (ipykernel)",
   "language": "python",
   "name": "python3"
  },
  "language_info": {
   "codemirror_mode": {
    "name": "ipython",
    "version": 3
   },
   "file_extension": ".py",
   "mimetype": "text/x-python",
   "name": "python",
   "nbconvert_exporter": "python",
   "pygments_lexer": "ipython3",
   "version": "3.8.0"
  }
 },
 "nbformat": 4,
 "nbformat_minor": 5
}
