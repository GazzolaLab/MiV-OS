{
 "cells": [
  {
   "cell_type": "markdown",
   "id": "7f258566",
   "metadata": {},
   "source": [
    "# Signal Processing Guideline\n"
   ]
  },
  {
   "cell_type": "code",
   "execution_count": null,
   "id": "e7b0eab1",
   "metadata": {
    "tags": [
     "hide-cell"
    ]
   },
   "outputs": [],
   "source": [
    "import os\n",
    "import numpy as np\n",
    "import quantities as pq\n",
    "import matplotlib.pyplot as plt\n",
    "\n"
   ]
  },
  {
   "cell_type": "markdown",
   "id": "8c6e099e",
   "metadata": {},
   "source": [
    "## 1. Data Load"
   ]
  },
  {
   "cell_type": "code",
   "execution_count": null,
   "id": "a506fd05",
   "metadata": {
    "tags": [
     "hide-cell"
    ]
   },
   "outputs": [],
   "source": [
    "from miv.io import load_data"
   ]
  },
  {
   "cell_type": "code",
   "execution_count": null,
   "id": "30e3602d",
   "metadata": {},
   "outputs": [],
   "source": [
    "# Load dataset from OpenEphys recording\n",
    "folder_path: str = \"~/Open Ephys/2022-03-10-16-19-09\"  # Data Path\n",
    "dataset = load_data(folder_path, device=\"OpenEphys\")"
   ]
  },
  {
   "cell_type": "markdown",
   "id": "bbe8164b",
   "metadata": {},
   "source": [
    "### 1.1. Meta Data Structure"
   ]
  },
  {
   "cell_type": "code",
   "execution_count": null,
   "id": "bb7d530c",
   "metadata": {},
   "outputs": [],
   "source": [
    "# Get signal and rate(hz)\n",
    "#   signal     : np.array, shape(N, N_channels)\n",
    "#   rate       : float\n",
    "record_node: int = dataset.get_nodes[0]\n",
    "recording = dataset[record_node][\"experiment1\"][\"recording1\"]\n",
    "signal, _, rate = recording.continuous[\"100\"]\n",
    "# time = recording.continuous[\"100\"].timestamp / rate\n",
    "num_channels = signal.shape[1]"
   ]
  },
  {
   "cell_type": "markdown",
   "id": "508fdcfb",
   "metadata": {},
   "source": [
    "### 1.2. Array Data Structure"
   ]
  },
  {
   "cell_type": "code",
   "execution_count": null,
   "id": "26904327",
   "metadata": {},
   "outputs": [],
   "source": []
  },
  {
   "cell_type": "markdown",
   "id": "08d9f5b4",
   "metadata": {},
   "source": [
    "### 1.3 Raw Data"
   ]
  },
  {
   "cell_type": "code",
   "execution_count": null,
   "id": "cfc1e919",
   "metadata": {},
   "outputs": [],
   "source": []
  },
  {
   "cell_type": "markdown",
   "id": "331a3b6d",
   "metadata": {},
   "source": [
    "## 2. Filtering Raw Signal"
   ]
  },
  {
   "cell_type": "markdown",
   "id": "60e44502",
   "metadata": {},
   "source": [
    "We provide a set of signal-filter tools that can be pre-applied to the overall signal before the spike-detection stage. Here, we provide examples of how to easily create filter, or set of filters, and apply them to the dataset."
   ]
  },
  {
   "cell_type": "markdown",
   "id": "8b78ee35",
   "metadata": {},
   "source": [
    "If you have further suggestion on other filters to include, please leave an issue on our [GitHub issue page](https://github.com/GazzolaLab/MiV-OS/issues) with `enhancement` tag."
   ]
  },
  {
   "cell_type": "code",
   "execution_count": null,
   "id": "5ead19a7",
   "metadata": {
    "tags": [
     "hide-cell"
    ]
   },
   "outputs": [],
   "source": [
    "from miv.signal.filter import FilterCollection, ButterBandpass"
   ]
  },
  {
   "cell_type": "markdown",
   "id": "8bd0d8d7",
   "metadata": {},
   "source": [
    "### 2.1 Filter Collection"
   ]
  },
  {
   "cell_type": "code",
   "execution_count": null,
   "id": "ee9b62c2",
   "metadata": {},
   "outputs": [],
   "source": [
    "# Butter bandpass filter\n",
    "pre_filter = ButterBandpass(lowcut=300, highcut=3000, order=5)\n",
    "\n",
    "# How to construct sequence of filters\n",
    "pre_filter = (\n",
    "    FilterCollection(tag=\"Filter Example\")\n",
    "        .append(ButterBandpass(lowcut=300, highcut=3000, order=5))\n",
    "        #.append(Limiter(400*pq.mV))\n",
    "        #.append(Filter1(**filter1_kwargs))\n",
    "        #.append(Filter2(**filter2_kwargs))\n",
    ")"
   ]
  },
  {
   "cell_type": "markdown",
   "id": "bb350d93",
   "metadata": {},
   "source": [
    "### 2.2 Apply Filter"
   ]
  },
  {
   "cell_type": "code",
   "execution_count": null,
   "id": "48714e3c",
   "metadata": {},
   "outputs": [],
   "source": [
    "# Apply filter to entire dataset\n",
    "dataset.apply_filter(pre_filter)\n",
    "filtered_signal = dataset[record_node]['experiment1']['recording1'].filtered_signal\n",
    "\n",
    "# Apply filter to particular data in the dataset\n",
    "#filtered_signal = dataset[record_node]['experiment1']['recording1'].apply_filter(pre_filter)\n",
    "\n",
    "# Apply filter to array\n",
    "rate = 30_000\n",
    "filtered_signal = pre_filter(data_array, sampling_rate=rate)\n",
    "\n",
    "# Retrieve data from dataset and apply filter\n",
    "data = dataset[record_node]['experiment1']['recording1']\n",
    "filtered_signal = pre_filter(data)"
   ]
  },
  {
   "cell_type": "markdown",
   "id": "1ca4db92",
   "metadata": {},
   "source": [
    "## 3. Spike Detection"
   ]
  },
  {
   "cell_type": "code",
   "execution_count": null,
   "id": "d7cec674",
   "metadata": {
    "tags": [
     "hide-cell"
    ]
   },
   "outputs": [],
   "source": [
    "from miv.signal.spike import (\n",
    "    compute_spike_threshold,\n",
    "    detect_threshold_crossings,\n",
    "    align_to_minimum,\n",
    ")"
   ]
  },
  {
   "cell_type": "code",
   "execution_count": null,
   "id": "027dfe31",
   "metadata": {},
   "outputs": [],
   "source": [
    "# Spike detection for each channel\n",
    "spiketrain_list = []\n",
    "for channel in range(num_channels):\n",
    "    # Spike Detection: get spikestamp\n",
    "    spike_threshold = compute_spike_threshold(signal)\n",
    "    crossings = detect_threshold_crossings(signal, rate, spike_threshold, 0.003)\n",
    "    spikes = align_to_minimum(signal, rate, crossings, 0.002)\n",
    "    spikestamp = spikes / rate\n",
    "    # Convert spikestamp to neo.SpikeTrain (for plotting)\n",
    "    spiketrain = neo.SpikeTrain(spikestamp, units=\"sec\")\n",
    "    spiketrain_list.append(spiketrain)\n"
   ]
  },
  {
   "cell_type": "markdown",
   "id": "ada29b74",
   "metadata": {},
   "source": [
    "## 4. Spike Visualization"
   ]
  },
  {
   "cell_type": "code",
   "execution_count": null,
   "id": "6e0d15dd",
   "metadata": {
    "tags": [
     "hide-cell"
    ]
   },
   "outputs": [],
   "source": [
    "import neo\n",
    "from viziphant.rasterplot import rasterplot_rates"
   ]
  },
  {
   "cell_type": "code",
   "execution_count": null,
   "id": "e6e116df",
   "metadata": {},
   "outputs": [],
   "source": [
    "# Plot\n",
    "rasterplot_rates(spiketrain_list)"
   ]
  }
 ],
 "metadata": {
  "celltoolbar": "Tags",
  "kernelspec": {
   "display_name": "Python 3 (ipykernel)",
   "language": "python",
   "name": "python3"
  },
  "language_info": {
   "codemirror_mode": {
    "name": "ipython",
    "version": 3
   },
   "file_extension": ".py",
   "mimetype": "text/x-python",
   "name": "python",
   "nbconvert_exporter": "python",
   "pygments_lexer": "ipython3",
   "version": "3.8.0"
  }
 },
 "nbformat": 4,
 "nbformat_minor": 5
}
