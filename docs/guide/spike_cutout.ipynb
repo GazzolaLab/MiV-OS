{
 "cells": [
  {
   "cell_type": "markdown",
   "id": "28a0a7e4",
   "metadata": {},
   "source": [
    "# Spike Cutout Visualization"
   ]
  },
  {
   "cell_type": "code",
   "execution_count": null,
   "id": "5d3c0434",
   "metadata": {},
   "outputs": [],
   "source": [
    "pre_filter = ButterBandpass(lowcut=300, highcut=3000, order=5)\n",
    "filtered_signal = pre_filter(data, sampling_rate=rate)\n",
    "\n",
    "spike_detection = ThresholdCutoff()\n",
    "spks = spike_detection(signal, timestamps, sampling_rate=30_000, cutoff=3.5)"
   ]
  },
  {
   "cell_type": "code",
   "execution_count": null,
   "id": "fa5542ff",
   "metadata": {},
   "outputs": [],
   "source": [
    "cutouts, spks = extract_waveforms(\n",
    "    signal, spks, fs=sampling_rate, return_spikes_idx=True\n",
    ")\n",
    "# print(\"Cutout array shape: \" + str(cutouts.shape)) # number of spikes x number of samples\n",
    "timestamps = spks / fs\n",
    "\n",
    "plot_waveforms(cutouts, fs, pre, post, n=250, show=False)\n",
    "plt.savefig(os.path.join(output_spike_folder, 'ch_{}.png'.format(info['channel_id'])))\n",
    "plt.cla()\n",
    "plt.clf()\n",
    "plt.close('all')\n"
   ]
  }
 ],
 "metadata": {
  "kernelspec": {
   "display_name": "Python 3 (ipykernel)",
   "language": "python",
   "name": "python3"
  },
  "language_info": {
   "codemirror_mode": {
    "name": "ipython",
    "version": 3
   },
   "file_extension": ".py",
   "mimetype": "text/x-python",
   "name": "python",
   "nbconvert_exporter": "python",
   "pygments_lexer": "ipython3",
   "version": "3.8.0"
  }
 },
 "nbformat": 4,
 "nbformat_minor": 5
}
