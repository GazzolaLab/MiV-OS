{
 "cells": [
  {
   "cell_type": "markdown",
   "metadata": {},
   "source": [
    "#### This notebook seeks the best combination of Keras model optimizer and loss used in the fit function.\n",
    "__Accuracy is the goal__"
   ]
  },
  {
   "cell_type": "code",
   "execution_count": 1,
   "metadata": {},
   "outputs": [],
   "source": [
    "import numpy as np\n",
    "import matplotlib.pyplot as plt\n",
    "import tensorflow as tf\n",
    "from tqdm import tqdm\n",
    "\n",
    "datapath = \"./train_data_00.npz\""
   ]
  },
  {
   "cell_type": "code",
   "execution_count": 2,
   "metadata": {},
   "outputs": [],
   "source": [
    "with np.load(datapath) as file:\n",
    "    labels = file['label']\n",
    "    spikes = file['spike']\n",
    "\n",
    "from sklearn.utils import shuffle\n",
    "labels, spikes = shuffle(labels, spikes)\n",
    "\n",
    "sample_percentage = 0.4\n",
    "cut = int(sample_percentage*len(labels))\n",
    "labels = labels[:cut]\n",
    "spikes = spikes[:cut]\n",
    "\n",
    "split = int(len(labels) * 0.8)\n",
    "train_labels = labels[:split]\n",
    "train_spikes = spikes[:split]\n",
    "test_labels = labels[split:]\n",
    "test_spikes = spikes[split:]"
   ]
  },
  {
   "cell_type": "code",
   "execution_count": 3,
   "metadata": {},
   "outputs": [],
   "source": [
    "spike_length = np.shape(train_spikes)[1]\n",
    "hidden_layer_size = spike_length\n",
    "\n",
    "layers = [\n",
    "    tf.keras.layers.Dense(spike_length),\n",
    "    tf.keras.layers.Dense(hidden_layer_size),\n",
    "    tf.keras.layers.Dense(len(np.unique(labels)))\n",
    "]"
   ]
  },
  {
   "cell_type": "code",
   "execution_count": 4,
   "metadata": {},
   "outputs": [],
   "source": [
    "optimizers = np.array([\n",
    "    \"Adadelta\",\n",
    "    \"Adagrad\",\n",
    "    \"Adam\",\n",
    "    \"Adamax\",\n",
    "    \"Ftrl\",\n",
    "    \"Nadam\",\n",
    "    \"RMSprop\",\n",
    "    \"SGD\"\n",
    "])\n",
    "\n",
    "losses = np.array([\n",
    "    \"BinaryCrossentropy\",\n",
    "    \"BinaryFocalCrossentropy\",\n",
    "    # \"CategoricalCrossentropy\",\n",
    "    \"CategoricalHinge\",\n",
    "    # \"CosineSimilarity\",\n",
    "    \"Hinge\",\n",
    "    \"Huber\",\n",
    "    \"KLDivergence\",\n",
    "    \"LogCosh\",\n",
    "    \"MeanAbsoluteError\",\n",
    "    \"MeanAbsolutePercentageError\",\n",
    "    \"MeanSquaredError\",\n",
    "    \"MeanSquaredLogarithmicError\",\n",
    "    \"Poisson\",\n",
    "    \"SparseCategoricalCrossentropy\",\n",
    "    \"SquaredHinge\"\n",
    "])"
   ]
  },
  {
   "cell_type": "code",
   "execution_count": 5,
   "metadata": {},
   "outputs": [
    {
     "name": "stderr",
     "output_type": "stream",
     "text": [
      "8it [12:27, 93.44s/it] \n"
     ]
    }
   ],
   "source": [
    "accuracies = np.ndarray((len(optimizers), len(losses)))\n",
    "for i, optimizer in tqdm(enumerate(optimizers)):\n",
    "    for j, loss in enumerate(losses):\n",
    "        model = tf.keras.Sequential(layers)\n",
    "        model.compile(\n",
    "            optimizer=optimizer,\n",
    "            loss=loss,\n",
    "            metrics=[\"accuracy\"]\n",
    "        )\n",
    "        callback = tf.keras.callbacks.EarlyStopping(monitor=\"accuracy\", patience=1)\n",
    "        model.fit(train_spikes, train_labels, epochs=6, callbacks=callback, verbose=0)\n",
    "        model_loss, model_acc = model.evaluate(test_spikes, test_labels, verbose=0)\n",
    "        accuracies[i][j] = model_acc"
   ]
  },
  {
   "cell_type": "code",
   "execution_count": 6,
   "metadata": {},
   "outputs": [
    {
     "name": "stdout",
     "output_type": "stream",
     "text": [
      "Most accurate combination =  Adam + Hinge\n",
      "with accuracy =  0.8013302087783813\n"
     ]
    }
   ],
   "source": [
    "best_idx = np.argmax(accuracies)\n",
    "best_opt_idx = int(best_idx / len(losses))\n",
    "best_loss_idx = best_idx % len(losses)\n",
    "print(\"Most accurate combination = \", optimizers[best_opt_idx], \"+\", losses[best_loss_idx])\n",
    "print(\"with accuracy = \", accuracies[best_opt_idx][best_loss_idx])"
   ]
  }
 ],
 "metadata": {
  "kernelspec": {
   "display_name": "Python 3.10.4 ('venv': venv)",
   "language": "python",
   "name": "python3"
  },
  "language_info": {
   "codemirror_mode": {
    "name": "ipython",
    "version": 3
   },
   "file_extension": ".py",
   "mimetype": "text/x-python",
   "name": "python",
   "nbconvert_exporter": "python",
   "pygments_lexer": "ipython3",
   "version": "3.10.4"
  },
  "orig_nbformat": 4,
  "vscode": {
   "interpreter": {
    "hash": "814c8425decae4f86b0a2793668b5d1e72243fbb280f353401e2c57732588a25"
   }
  }
 },
 "nbformat": 4,
 "nbformat_minor": 2
}
