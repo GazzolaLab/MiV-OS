{
 "cells": [
  {
   "cell_type": "markdown",
   "metadata": {},
   "source": [
    "#### This notebook seeks the best combination of Keras model optimizer and loss used in the fit function.\n",
    "__Accuracy is the goal__"
   ]
  },
  {
   "cell_type": "code",
   "execution_count": 1,
   "metadata": {},
   "outputs": [],
   "source": [
    "import numpy as np\n",
    "import matplotlib.pyplot as plt\n",
    "import tensorflow as tf\n",
    "from tqdm import tqdm\n",
    "\n",
    "datapath = \"./train_data_00.npz\""
   ]
  },
  {
   "cell_type": "code",
   "execution_count": 2,
   "metadata": {},
   "outputs": [],
   "source": [
    "with np.load(datapath) as file:\n",
    "    labels = file['label']\n",
    "    spikes = file['spike']\n",
    "\n",
    "from sklearn.utils import shuffle\n",
    "labels, spikes = shuffle(labels, spikes)\n",
    "\n",
    "sample_percentage = 0.4\n",
    "cut = int(sample_percentage*len(labels))\n",
    "labels = labels[:cut]\n",
    "spikes = spikes[:cut]\n",
    "\n",
    "split = int(len(labels) * 0.8)\n",
    "train_labels = labels[:split]\n",
    "train_spikes = spikes[:split]\n",
    "test_labels = labels[split:]\n",
    "test_spikes = spikes[split:]"
   ]
  },
  {
   "cell_type": "code",
   "execution_count": 3,
   "metadata": {},
   "outputs": [],
   "source": [
    "spike_length = np.shape(train_spikes)[1]\n",
    "hidden_layer_size = spike_length\n",
    "\n",
    "layers = [\n",
    "    tf.keras.layers.Dense(spike_length),\n",
    "    tf.keras.layers.Dense(hidden_layer_size),\n",
    "    tf.keras.layers.Dense(len(np.unique(labels)))\n",
    "]"
   ]
  },
  {
   "cell_type": "code",
   "execution_count": 4,
   "metadata": {},
   "outputs": [],
   "source": [
    "optimizers = np.array([\n",
    "    \"Adadelta\",\n",
    "    \"Adagrad\",\n",
    "    \"Adam\",\n",
    "    \"Adamax\",\n",
    "    \"Ftrl\",\n",
    "    \"Nadam\",\n",
    "    \"RMSprop\",\n",
    "    \"SGD\"\n",
    "])\n",
    "\n",
    "losses = np.array([\n",
    "    \"BinaryCrossentropy\",\n",
    "    \"BinaryFocalCrossentropy\",\n",
    "    # \"CategoricalCrossentropy\",\n",
    "    \"CategoricalHinge\",\n",
    "    # \"CosineSimilarity\",\n",
    "    \"Hinge\",\n",
    "    \"Huber\",\n",
    "    \"KLDivergence\",\n",
    "    \"LogCosh\",\n",
    "    \"MeanAbsoluteError\",\n",
    "    \"MeanAbsolutePercentageError\",\n",
    "    \"MeanSquaredError\",\n",
    "    \"MeanSquaredLogarithmicError\",\n",
    "    \"Poisson\",\n",
    "    \"SparseCategoricalCrossentropy\",\n",
    "    \"SquaredHinge\"\n",
    "])"
   ]
  },
  {
   "cell_type": "code",
   "execution_count": 5,
   "metadata": {},
   "outputs": [
    {
     "name": "stderr",
     "output_type": "stream",
     "text": [
      "0it [00:00, ?it/s]\n"
     ]
    },
    {
     "ename": "ValueError",
     "evalue": "in user code:\n\n    File \"c:\\Users\\jiyug\\Unsynched_Docs\\MiV\\venv\\lib\\site-packages\\keras\\engine\\training.py\", line 1051, in train_function  *\n        return step_function(self, iterator)\n    File \"c:\\Users\\jiyug\\Unsynched_Docs\\MiV\\venv\\lib\\site-packages\\keras\\engine\\training.py\", line 1040, in step_function  **\n        outputs = model.distribute_strategy.run(run_step, args=(data,))\n    File \"c:\\Users\\jiyug\\Unsynched_Docs\\MiV\\venv\\lib\\site-packages\\keras\\engine\\training.py\", line 1030, in run_step  **\n        outputs = model.train_step(data)\n    File \"c:\\Users\\jiyug\\Unsynched_Docs\\MiV\\venv\\lib\\site-packages\\keras\\engine\\training.py\", line 894, in train_step\n        return self.compute_metrics(x, y, y_pred, sample_weight)\n    File \"c:\\Users\\jiyug\\Unsynched_Docs\\MiV\\venv\\lib\\site-packages\\keras\\engine\\training.py\", line 987, in compute_metrics\n        self.compiled_metrics.update_state(y, y_pred, sample_weight)\n    File \"c:\\Users\\jiyug\\Unsynched_Docs\\MiV\\venv\\lib\\site-packages\\keras\\engine\\compile_utils.py\", line 480, in update_state\n        self.build(y_pred, y_true)\n    File \"c:\\Users\\jiyug\\Unsynched_Docs\\MiV\\venv\\lib\\site-packages\\keras\\engine\\compile_utils.py\", line 393, in build\n        self._metrics = tf.__internal__.nest.map_structure_up_to(\n    File \"c:\\Users\\jiyug\\Unsynched_Docs\\MiV\\venv\\lib\\site-packages\\keras\\engine\\compile_utils.py\", line 526, in _get_metric_objects\n        return [self._get_metric_object(m, y_t, y_p) for m in metrics]\n    File \"c:\\Users\\jiyug\\Unsynched_Docs\\MiV\\venv\\lib\\site-packages\\keras\\engine\\compile_utils.py\", line 526, in <listcomp>\n        return [self._get_metric_object(m, y_t, y_p) for m in metrics]\n    File \"c:\\Users\\jiyug\\Unsynched_Docs\\MiV\\venv\\lib\\site-packages\\keras\\engine\\compile_utils.py\", line 545, in _get_metric_object\n        metric_obj = metrics_mod.get(metric)\n    File \"c:\\Users\\jiyug\\Unsynched_Docs\\MiV\\venv\\lib\\site-packages\\keras\\metrics\\__init__.py\", line 182, in get\n        return deserialize(str(identifier))\n    File \"c:\\Users\\jiyug\\Unsynched_Docs\\MiV\\venv\\lib\\site-packages\\keras\\metrics\\__init__.py\", line 138, in deserialize\n        return deserialize_keras_object(\n    File \"c:\\Users\\jiyug\\Unsynched_Docs\\MiV\\venv\\lib\\site-packages\\keras\\utils\\generic_utils.py\", line 709, in deserialize_keras_object\n        raise ValueError(\n\n    ValueError: Unknown metric function: loss. Please ensure this object is passed to the `custom_objects` argument. See https://www.tensorflow.org/guide/keras/save_and_serialize#registering_the_custom_object for details.\n",
     "output_type": "error",
     "traceback": [
      "\u001b[1;31m---------------------------------------------------------------------------\u001b[0m",
      "\u001b[1;31mValueError\u001b[0m                                Traceback (most recent call last)",
      "\u001b[1;32mc:\\Users\\jiyug\\Unsynched_Docs\\MiV\\MiV-OS\\docs\\discussion\\spike_classification\\Classifier Model Comparison with Keras Optimizers and Losses.ipynb Cell 6\u001b[0m in \u001b[0;36m<cell line: 2>\u001b[1;34m()\u001b[0m\n\u001b[0;32m      <a href='vscode-notebook-cell:/c%3A/Users/jiyug/Unsynched_Docs/MiV/MiV-OS/docs/discussion/spike_classification/Classifier%20Model%20Comparison%20with%20Keras%20Optimizers%20and%20Losses.ipynb#ch0000005?line=4'>5</a>\u001b[0m model\u001b[39m.\u001b[39mcompile(\n\u001b[0;32m      <a href='vscode-notebook-cell:/c%3A/Users/jiyug/Unsynched_Docs/MiV/MiV-OS/docs/discussion/spike_classification/Classifier%20Model%20Comparison%20with%20Keras%20Optimizers%20and%20Losses.ipynb#ch0000005?line=5'>6</a>\u001b[0m     optimizer\u001b[39m=\u001b[39moptimizer,\n\u001b[0;32m      <a href='vscode-notebook-cell:/c%3A/Users/jiyug/Unsynched_Docs/MiV/MiV-OS/docs/discussion/spike_classification/Classifier%20Model%20Comparison%20with%20Keras%20Optimizers%20and%20Losses.ipynb#ch0000005?line=6'>7</a>\u001b[0m     loss\u001b[39m=\u001b[39mloss,\n\u001b[0;32m      <a href='vscode-notebook-cell:/c%3A/Users/jiyug/Unsynched_Docs/MiV/MiV-OS/docs/discussion/spike_classification/Classifier%20Model%20Comparison%20with%20Keras%20Optimizers%20and%20Losses.ipynb#ch0000005?line=7'>8</a>\u001b[0m     metrics\u001b[39m=\u001b[39m[\u001b[39m\"\u001b[39m\u001b[39mloss\u001b[39m\u001b[39m\"\u001b[39m]\n\u001b[0;32m      <a href='vscode-notebook-cell:/c%3A/Users/jiyug/Unsynched_Docs/MiV/MiV-OS/docs/discussion/spike_classification/Classifier%20Model%20Comparison%20with%20Keras%20Optimizers%20and%20Losses.ipynb#ch0000005?line=8'>9</a>\u001b[0m )\n\u001b[0;32m     <a href='vscode-notebook-cell:/c%3A/Users/jiyug/Unsynched_Docs/MiV/MiV-OS/docs/discussion/spike_classification/Classifier%20Model%20Comparison%20with%20Keras%20Optimizers%20and%20Losses.ipynb#ch0000005?line=9'>10</a>\u001b[0m callback \u001b[39m=\u001b[39m tf\u001b[39m.\u001b[39mkeras\u001b[39m.\u001b[39mcallbacks\u001b[39m.\u001b[39mEarlyStopping(monitor\u001b[39m=\u001b[39m\u001b[39m\"\u001b[39m\u001b[39maccuracy\u001b[39m\u001b[39m\"\u001b[39m, patience\u001b[39m=\u001b[39m\u001b[39m1\u001b[39m)\n\u001b[1;32m---> <a href='vscode-notebook-cell:/c%3A/Users/jiyug/Unsynched_Docs/MiV/MiV-OS/docs/discussion/spike_classification/Classifier%20Model%20Comparison%20with%20Keras%20Optimizers%20and%20Losses.ipynb#ch0000005?line=10'>11</a>\u001b[0m model\u001b[39m.\u001b[39;49mfit(train_spikes, train_labels, epochs\u001b[39m=\u001b[39;49m\u001b[39m6\u001b[39;49m, callbacks\u001b[39m=\u001b[39;49mcallback, verbose\u001b[39m=\u001b[39;49m\u001b[39m0\u001b[39;49m)\n\u001b[0;32m     <a href='vscode-notebook-cell:/c%3A/Users/jiyug/Unsynched_Docs/MiV/MiV-OS/docs/discussion/spike_classification/Classifier%20Model%20Comparison%20with%20Keras%20Optimizers%20and%20Losses.ipynb#ch0000005?line=11'>12</a>\u001b[0m model_loss, model_acc \u001b[39m=\u001b[39m model\u001b[39m.\u001b[39mevaluate(test_spikes, test_labels, verbose\u001b[39m=\u001b[39m\u001b[39m0\u001b[39m)\n\u001b[0;32m     <a href='vscode-notebook-cell:/c%3A/Users/jiyug/Unsynched_Docs/MiV/MiV-OS/docs/discussion/spike_classification/Classifier%20Model%20Comparison%20with%20Keras%20Optimizers%20and%20Losses.ipynb#ch0000005?line=12'>13</a>\u001b[0m accuracies[i][j] \u001b[39m=\u001b[39m model_acc\n",
      "File \u001b[1;32mc:\\Users\\jiyug\\Unsynched_Docs\\MiV\\venv\\lib\\site-packages\\keras\\utils\\traceback_utils.py:67\u001b[0m, in \u001b[0;36mfilter_traceback.<locals>.error_handler\u001b[1;34m(*args, **kwargs)\u001b[0m\n\u001b[0;32m     65\u001b[0m \u001b[39mexcept\u001b[39;00m \u001b[39mException\u001b[39;00m \u001b[39mas\u001b[39;00m e:  \u001b[39m# pylint: disable=broad-except\u001b[39;00m\n\u001b[0;32m     66\u001b[0m   filtered_tb \u001b[39m=\u001b[39m _process_traceback_frames(e\u001b[39m.\u001b[39m__traceback__)\n\u001b[1;32m---> 67\u001b[0m   \u001b[39mraise\u001b[39;00m e\u001b[39m.\u001b[39mwith_traceback(filtered_tb) \u001b[39mfrom\u001b[39;00m \u001b[39mNone\u001b[39m\n\u001b[0;32m     68\u001b[0m \u001b[39mfinally\u001b[39;00m:\n\u001b[0;32m     69\u001b[0m   \u001b[39mdel\u001b[39;00m filtered_tb\n",
      "File \u001b[1;32m~\\AppData\\Local\\Temp\\__autograph_generated_filekv30wc9m.py:15\u001b[0m, in \u001b[0;36mouter_factory.<locals>.inner_factory.<locals>.tf__train_function\u001b[1;34m(iterator)\u001b[0m\n\u001b[0;32m     13\u001b[0m \u001b[39mtry\u001b[39;00m:\n\u001b[0;32m     14\u001b[0m     do_return \u001b[39m=\u001b[39m \u001b[39mTrue\u001b[39;00m\n\u001b[1;32m---> 15\u001b[0m     retval_ \u001b[39m=\u001b[39m ag__\u001b[39m.\u001b[39mconverted_call(ag__\u001b[39m.\u001b[39mld(step_function), (ag__\u001b[39m.\u001b[39mld(\u001b[39mself\u001b[39m), ag__\u001b[39m.\u001b[39mld(iterator)), \u001b[39mNone\u001b[39;00m, fscope)\n\u001b[0;32m     16\u001b[0m \u001b[39mexcept\u001b[39;00m:\n\u001b[0;32m     17\u001b[0m     do_return \u001b[39m=\u001b[39m \u001b[39mFalse\u001b[39;00m\n",
      "\u001b[1;31mValueError\u001b[0m: in user code:\n\n    File \"c:\\Users\\jiyug\\Unsynched_Docs\\MiV\\venv\\lib\\site-packages\\keras\\engine\\training.py\", line 1051, in train_function  *\n        return step_function(self, iterator)\n    File \"c:\\Users\\jiyug\\Unsynched_Docs\\MiV\\venv\\lib\\site-packages\\keras\\engine\\training.py\", line 1040, in step_function  **\n        outputs = model.distribute_strategy.run(run_step, args=(data,))\n    File \"c:\\Users\\jiyug\\Unsynched_Docs\\MiV\\venv\\lib\\site-packages\\keras\\engine\\training.py\", line 1030, in run_step  **\n        outputs = model.train_step(data)\n    File \"c:\\Users\\jiyug\\Unsynched_Docs\\MiV\\venv\\lib\\site-packages\\keras\\engine\\training.py\", line 894, in train_step\n        return self.compute_metrics(x, y, y_pred, sample_weight)\n    File \"c:\\Users\\jiyug\\Unsynched_Docs\\MiV\\venv\\lib\\site-packages\\keras\\engine\\training.py\", line 987, in compute_metrics\n        self.compiled_metrics.update_state(y, y_pred, sample_weight)\n    File \"c:\\Users\\jiyug\\Unsynched_Docs\\MiV\\venv\\lib\\site-packages\\keras\\engine\\compile_utils.py\", line 480, in update_state\n        self.build(y_pred, y_true)\n    File \"c:\\Users\\jiyug\\Unsynched_Docs\\MiV\\venv\\lib\\site-packages\\keras\\engine\\compile_utils.py\", line 393, in build\n        self._metrics = tf.__internal__.nest.map_structure_up_to(\n    File \"c:\\Users\\jiyug\\Unsynched_Docs\\MiV\\venv\\lib\\site-packages\\keras\\engine\\compile_utils.py\", line 526, in _get_metric_objects\n        return [self._get_metric_object(m, y_t, y_p) for m in metrics]\n    File \"c:\\Users\\jiyug\\Unsynched_Docs\\MiV\\venv\\lib\\site-packages\\keras\\engine\\compile_utils.py\", line 526, in <listcomp>\n        return [self._get_metric_object(m, y_t, y_p) for m in metrics]\n    File \"c:\\Users\\jiyug\\Unsynched_Docs\\MiV\\venv\\lib\\site-packages\\keras\\engine\\compile_utils.py\", line 545, in _get_metric_object\n        metric_obj = metrics_mod.get(metric)\n    File \"c:\\Users\\jiyug\\Unsynched_Docs\\MiV\\venv\\lib\\site-packages\\keras\\metrics\\__init__.py\", line 182, in get\n        return deserialize(str(identifier))\n    File \"c:\\Users\\jiyug\\Unsynched_Docs\\MiV\\venv\\lib\\site-packages\\keras\\metrics\\__init__.py\", line 138, in deserialize\n        return deserialize_keras_object(\n    File \"c:\\Users\\jiyug\\Unsynched_Docs\\MiV\\venv\\lib\\site-packages\\keras\\utils\\generic_utils.py\", line 709, in deserialize_keras_object\n        raise ValueError(\n\n    ValueError: Unknown metric function: loss. Please ensure this object is passed to the `custom_objects` argument. See https://www.tensorflow.org/guide/keras/save_and_serialize#registering_the_custom_object for details.\n"
     ]
    }
   ],
   "source": [
    "accuracies = np.ndarray((len(optimizers), len(losses)))\n",
    "for i, optimizer in tqdm(enumerate(optimizers)):\n",
    "    for j, loss in enumerate(losses):\n",
    "        model = tf.keras.Sequential(layers)\n",
    "        model.compile(\n",
    "            optimizer=optimizer,\n",
    "            loss=loss,\n",
    "            metrics=[\"accuracy\"]\n",
    "        )\n",
    "        callback = tf.keras.callbacks.EarlyStopping(monitor=\"loss\", patience=1)\n",
    "        model.fit(train_spikes, train_labels, epochs=6, callbacks=callback, verbose=0)\n",
    "        model_loss, model_acc = model.evaluate(test_spikes, test_labels, verbose=0)\n",
    "        accuracies[i][j] = model_acc"
   ]
  },
  {
   "cell_type": "code",
   "execution_count": null,
   "metadata": {},
   "outputs": [
    {
     "name": "stdout",
     "output_type": "stream",
     "text": [
      "Most accurate combination =  Adam + Hinge\n",
      "with accuracy =  0.8013302087783813\n"
     ]
    }
   ],
   "source": [
    "best_idx = np.argmax(accuracies)\n",
    "best_opt_idx = int(best_idx / len(losses))\n",
    "best_loss_idx = best_idx % len(losses)\n",
    "print(\"Most accurate combination = \", optimizers[best_opt_idx], \"+\", losses[best_loss_idx])\n",
    "print(\"with accuracy = \", accuracies[best_opt_idx][best_loss_idx])"
   ]
  }
 ],
 "metadata": {
  "kernelspec": {
   "display_name": "Python 3.10.4 ('venv': venv)",
   "language": "python",
   "name": "python3"
  },
  "language_info": {
   "codemirror_mode": {
    "name": "ipython",
    "version": 3
   },
   "file_extension": ".py",
   "mimetype": "text/x-python",
   "name": "python",
   "nbconvert_exporter": "python",
   "pygments_lexer": "ipython3",
   "version": "3.10.4"
  },
  "orig_nbformat": 4,
  "vscode": {
   "interpreter": {
    "hash": "814c8425decae4f86b0a2793668b5d1e72243fbb280f353401e2c57732588a25"
   }
  }
 },
 "nbformat": 4,
 "nbformat_minor": 2
}
