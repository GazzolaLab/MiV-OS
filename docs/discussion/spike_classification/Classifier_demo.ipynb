{
 "cells": [
  {
   "cell_type": "code",
   "execution_count": 1,
   "metadata": {},
   "outputs": [
    {
     "data": {
      "text/plain": [
       "True"
      ]
     },
     "execution_count": 1,
     "metadata": {},
     "output_type": "execute_result"
    }
   ],
   "source": [
    "datapath: str = \"./train_data_00.npz\"\n",
    "import os\n",
    "os.path.exists(datapath)"
   ]
  },
  {
   "cell_type": "code",
   "execution_count": 16,
   "metadata": {},
   "outputs": [],
   "source": [
    "import numpy as np\n",
    "from sklearn.utils import shuffle\n",
    "\n",
    "with np.load(datapath) as file:\n",
    "    labels, spikes = shuffle(file['label'], file['spike'])\n",
    "    sample_percentage = 1\n",
    "    cut = int(sample_percentage*len(labels))\n",
    "    labels = labels[:cut]\n",
    "    spikes = spikes[:cut]\n",
    "\n",
    "length = len(spikes[0])\n",
    "split = int(len(labels) * 0.8)\n",
    "train_labels = labels[:split]\n",
    "train_spikes = spikes[:split]\n",
    "test_labels = labels[split:]\n",
    "test_spikes = spikes[split:]\n",
    "del labels\n",
    "del spikes"
   ]
  },
  {
   "cell_type": "code",
   "execution_count": 17,
   "metadata": {},
   "outputs": [],
   "source": [
    "from miv.signal.classification.neuronal_spike_classification import NeuronalSpikeClassifier\n",
    "classifier = NeuronalSpikeClassifier()"
   ]
  },
  {
   "cell_type": "code",
   "execution_count": 18,
   "metadata": {},
   "outputs": [],
   "source": [
    "classifier.create_default_tf_keras_model(length)\n",
    "classifier.default_compile_model()"
   ]
  },
  {
   "cell_type": "code",
   "execution_count": 19,
   "metadata": {},
   "outputs": [
    {
     "name": "stdout",
     "output_type": "stream",
     "text": [
      "Epoch 1/5\n",
      "5075/5075 [==============================] - 7s 1ms/step - loss: 1.2742 - accuracy: 0.7948\n",
      "Epoch 2/5\n",
      "5075/5075 [==============================] - 7s 1ms/step - loss: 0.5682 - accuracy: 0.8112\n",
      "Epoch 3/5\n",
      "5075/5075 [==============================] - 7s 1ms/step - loss: 0.5358 - accuracy: 0.8144\n",
      "Epoch 4/5\n",
      "5075/5075 [==============================] - 7s 1ms/step - loss: 0.5386 - accuracy: 0.8144\n",
      "Epoch 5/5\n",
      "5075/5075 [==============================] - 7s 1ms/step - loss: 0.5200 - accuracy: 0.8151\n"
     ]
    }
   ],
   "source": [
    "classifier.default_train_model(train_spikes, train_labels)"
   ]
  },
  {
   "cell_type": "code",
   "execution_count": 20,
   "metadata": {},
   "outputs": [
    {
     "name": "stdout",
     "output_type": "stream",
     "text": [
      "1269/1269 [==============================] - 1s 1ms/step\n"
     ]
    }
   ],
   "source": [
    "predictions = classifier.predict_categories_sigmoid(test_spikes)"
   ]
  },
  {
   "cell_type": "code",
   "execution_count": 21,
   "metadata": {},
   "outputs": [
    {
     "data": {
      "text/plain": [
       "array([[10144,  3851],\n",
       "       [ 2565, 24036]], dtype=int64)"
      ]
     },
     "execution_count": 21,
     "metadata": {},
     "output_type": "execute_result"
    }
   ],
   "source": [
    "classifier.get_confusion_matrix(test_spikes, test_labels)"
   ]
  },
  {
   "cell_type": "code",
   "execution_count": null,
   "metadata": {},
   "outputs": [],
   "source": []
  }
 ],
 "metadata": {
  "kernelspec": {
   "display_name": "Python 3.10.4 ('venv': venv)",
   "language": "python",
   "name": "python3"
  },
  "language_info": {
   "codemirror_mode": {
    "name": "ipython",
    "version": 3
   },
   "file_extension": ".py",
   "mimetype": "text/x-python",
   "name": "python",
   "nbconvert_exporter": "python",
   "pygments_lexer": "ipython3",
   "version": "3.10.4"
  },
  "orig_nbformat": 4,
  "vscode": {
   "interpreter": {
    "hash": "814c8425decae4f86b0a2793668b5d1e72243fbb280f353401e2c57732588a25"
   }
  }
 },
 "nbformat": 4,
 "nbformat_minor": 2
}
